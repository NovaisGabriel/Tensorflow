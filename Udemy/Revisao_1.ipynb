{
 "cells": [
  {
   "cell_type": "code",
   "execution_count": 4,
   "id": "63c2e2a3",
   "metadata": {},
   "outputs": [],
   "source": [
    "# !pip install tensorflow keras"
   ]
  },
  {
   "cell_type": "code",
   "execution_count": 3,
   "id": "8cfc72fa",
   "metadata": {},
   "outputs": [
    {
     "name": "stdout",
     "output_type": "stream",
     "text": [
      "2.9.1\n"
     ]
    }
   ],
   "source": [
    "import tensorflow as tf\n",
    "print(tf.__version__)"
   ]
  },
  {
   "cell_type": "code",
   "execution_count": 24,
   "id": "a9809669",
   "metadata": {},
   "outputs": [],
   "source": [
    "# Constant tensors"
   ]
  },
  {
   "cell_type": "code",
   "execution_count": 25,
   "id": "3fb2f898",
   "metadata": {},
   "outputs": [],
   "source": [
    "vector = tf.constant([[1,2],[3,4]], dtype=float)"
   ]
  },
  {
   "cell_type": "code",
   "execution_count": 26,
   "id": "bf739a76",
   "metadata": {},
   "outputs": [
    {
     "data": {
      "text/plain": [
       "<tf.Tensor: shape=(2, 2), dtype=float32, numpy=\n",
       "array([[1., 2.],\n",
       "       [3., 4.]], dtype=float32)>"
      ]
     },
     "execution_count": 26,
     "metadata": {},
     "output_type": "execute_result"
    }
   ],
   "source": [
    "vector"
   ]
  },
  {
   "cell_type": "code",
   "execution_count": 28,
   "id": "faa9ab6c",
   "metadata": {},
   "outputs": [],
   "source": [
    "# Variable Tensors"
   ]
  },
  {
   "cell_type": "code",
   "execution_count": 29,
   "id": "f45a8144",
   "metadata": {},
   "outputs": [],
   "source": [
    "variable_tensor = tf.Variable([10,7])\n",
    "non_variable_tensor = tf.constant([10,7])"
   ]
  },
  {
   "cell_type": "code",
   "execution_count": 30,
   "id": "44c4aa47",
   "metadata": {},
   "outputs": [
    {
     "data": {
      "text/plain": [
       "<tf.Variable 'UnreadVariable' shape=(2,) dtype=int32, numpy=array([999,   7])>"
      ]
     },
     "execution_count": 30,
     "metadata": {},
     "output_type": "execute_result"
    }
   ],
   "source": [
    "variable_tensor[0].assign(999)"
   ]
  },
  {
   "cell_type": "code",
   "execution_count": 31,
   "id": "8245d4a0",
   "metadata": {},
   "outputs": [
    {
     "data": {
      "text/plain": [
       "<tf.Variable 'Variable:0' shape=(2,) dtype=int32, numpy=array([999,   7])>"
      ]
     },
     "execution_count": 31,
     "metadata": {},
     "output_type": "execute_result"
    }
   ],
   "source": [
    "variable_tensor"
   ]
  },
  {
   "cell_type": "code",
   "execution_count": 33,
   "id": "423da71b",
   "metadata": {},
   "outputs": [],
   "source": [
    "# Random Tensors"
   ]
  },
  {
   "cell_type": "code",
   "execution_count": 40,
   "id": "1c9cca21",
   "metadata": {},
   "outputs": [],
   "source": [
    "random_tensor = tf.random.Generator.from_seed(42)\n",
    "random_tensor = random_tensor.normal(shape=(2,2))"
   ]
  },
  {
   "cell_type": "code",
   "execution_count": 41,
   "id": "a5a469d5",
   "metadata": {},
   "outputs": [
    {
     "data": {
      "text/plain": [
       "array([[-0.7565803 , -0.06854702],\n",
       "       [ 0.07595026, -1.2573844 ]], dtype=float32)"
      ]
     },
     "execution_count": 41,
     "metadata": {},
     "output_type": "execute_result"
    }
   ],
   "source": [
    "random_tensor.numpy()"
   ]
  },
  {
   "cell_type": "code",
   "execution_count": 42,
   "id": "2e413e7b",
   "metadata": {},
   "outputs": [],
   "source": [
    "# Uniform Tensors"
   ]
  },
  {
   "cell_type": "code",
   "execution_count": 45,
   "id": "89aafa34",
   "metadata": {},
   "outputs": [],
   "source": [
    "not_shuffled_tensor = tf.constant([[10,7,8,9],[2,3,4,5]])"
   ]
  },
  {
   "cell_type": "code",
   "execution_count": 50,
   "id": "ebee14e8",
   "metadata": {},
   "outputs": [
    {
     "data": {
      "text/plain": [
       "<tf.Tensor: shape=(2, 4), dtype=int32, numpy=\n",
       "array([[ 2,  3,  4,  5],\n",
       "       [10,  7,  8,  9]])>"
      ]
     },
     "execution_count": 50,
     "metadata": {},
     "output_type": "execute_result"
    }
   ],
   "source": [
    "tf.random.set_seed(42) # global level random seed\n",
    "tf.random.shuffle(not_shuffled_tensor, seed=42) # operation level random seed"
   ]
  },
  {
   "cell_type": "code",
   "execution_count": 53,
   "id": "52044fd6",
   "metadata": {},
   "outputs": [],
   "source": [
    "# Tensor creations"
   ]
  },
  {
   "cell_type": "code",
   "execution_count": 55,
   "id": "9a3bc3b5",
   "metadata": {},
   "outputs": [
    {
     "data": {
      "text/plain": [
       "<tf.Tensor: shape=(5, 3), dtype=float32, numpy=\n",
       "array([[1., 1., 1.],\n",
       "       [1., 1., 1.],\n",
       "       [1., 1., 1.],\n",
       "       [1., 1., 1.],\n",
       "       [1., 1., 1.]], dtype=float32)>"
      ]
     },
     "execution_count": 55,
     "metadata": {},
     "output_type": "execute_result"
    }
   ],
   "source": [
    "tf.ones(shape=(5,3))"
   ]
  },
  {
   "cell_type": "code",
   "execution_count": 56,
   "id": "bd4e8883",
   "metadata": {},
   "outputs": [
    {
     "data": {
      "text/plain": [
       "<tf.Tensor: shape=(5, 2), dtype=float32, numpy=\n",
       "array([[0., 0.],\n",
       "       [0., 0.],\n",
       "       [0., 0.],\n",
       "       [0., 0.],\n",
       "       [0., 0.]], dtype=float32)>"
      ]
     },
     "execution_count": 56,
     "metadata": {},
     "output_type": "execute_result"
    }
   ],
   "source": [
    "tf.zeros(shape=(5,2))"
   ]
  },
  {
   "cell_type": "code",
   "execution_count": 57,
   "id": "446f8149",
   "metadata": {},
   "outputs": [],
   "source": [
    "import numpy as np"
   ]
  },
  {
   "cell_type": "code",
   "execution_count": 58,
   "id": "bf7c4d67",
   "metadata": {},
   "outputs": [
    {
     "data": {
      "text/plain": [
       "<tf.Tensor: shape=(24,), dtype=int32, numpy=\n",
       "array([ 1,  2,  3,  4,  5,  6,  7,  8,  9, 10, 11, 12, 13, 14, 15, 16, 17,\n",
       "       18, 19, 20, 21, 22, 23, 24])>"
      ]
     },
     "execution_count": 58,
     "metadata": {},
     "output_type": "execute_result"
    }
   ],
   "source": [
    "numpyA = np.arange(1,25, dtype=np.int32)\n",
    "tf.constant(numpyA)"
   ]
  },
  {
   "cell_type": "code",
   "execution_count": 60,
   "id": "4fa5e384",
   "metadata": {},
   "outputs": [],
   "source": [
    "x = tf.constant(numpyA, shape=(3,8))"
   ]
  },
  {
   "cell_type": "code",
   "execution_count": 62,
   "id": "c30cf331",
   "metadata": {},
   "outputs": [
    {
     "data": {
      "text/plain": [
       "TensorShape([3, 8])"
      ]
     },
     "execution_count": 62,
     "metadata": {},
     "output_type": "execute_result"
    }
   ],
   "source": [
    "x.shape"
   ]
  },
  {
   "cell_type": "code",
   "execution_count": 66,
   "id": "7c331e26",
   "metadata": {},
   "outputs": [
    {
     "data": {
      "text/plain": [
       "2"
      ]
     },
     "execution_count": 66,
     "metadata": {},
     "output_type": "execute_result"
    }
   ],
   "source": [
    "x.ndim"
   ]
  },
  {
   "cell_type": "code",
   "execution_count": 68,
   "id": "a140c862",
   "metadata": {},
   "outputs": [
    {
     "data": {
      "text/plain": [
       "<tf.Tensor: shape=(), dtype=int32, numpy=24>"
      ]
     },
     "execution_count": 68,
     "metadata": {},
     "output_type": "execute_result"
    }
   ],
   "source": [
    "tf.size(x) #number of elements along our tensor"
   ]
  },
  {
   "cell_type": "code",
   "execution_count": 69,
   "id": "d786eb44",
   "metadata": {},
   "outputs": [],
   "source": [
    "# Indexing and expanding tensors"
   ]
  },
  {
   "cell_type": "code",
   "execution_count": 72,
   "id": "007fa626",
   "metadata": {},
   "outputs": [
    {
     "data": {
      "text/plain": [
       "<tf.Tensor: shape=(3, 8), dtype=int32, numpy=\n",
       "array([[ 1,  2,  3,  4,  5,  6,  7,  8],\n",
       "       [ 9, 10, 11, 12, 13, 14, 15, 16],\n",
       "       [17, 18, 19, 20, 21, 22, 23, 24]])>"
      ]
     },
     "execution_count": 72,
     "metadata": {},
     "output_type": "execute_result"
    }
   ],
   "source": [
    "x"
   ]
  },
  {
   "cell_type": "code",
   "execution_count": 70,
   "id": "6c0cc401",
   "metadata": {},
   "outputs": [
    {
     "data": {
      "text/plain": [
       "<tf.Tensor: shape=(8,), dtype=int32, numpy=array([17, 18, 19, 20, 21, 22, 23, 24])>"
      ]
     },
     "execution_count": 70,
     "metadata": {},
     "output_type": "execute_result"
    }
   ],
   "source": [
    "x[2]"
   ]
  },
  {
   "cell_type": "code",
   "execution_count": 71,
   "id": "49ac39fc",
   "metadata": {},
   "outputs": [
    {
     "data": {
      "text/plain": [
       "<tf.Tensor: shape=(3,), dtype=int32, numpy=array([ 2, 10, 18])>"
      ]
     },
     "execution_count": 71,
     "metadata": {},
     "output_type": "execute_result"
    }
   ],
   "source": [
    "x[0:,1]"
   ]
  },
  {
   "cell_type": "code",
   "execution_count": 75,
   "id": "dae14e25",
   "metadata": {},
   "outputs": [
    {
     "data": {
      "text/plain": [
       "<tf.Tensor: shape=(), dtype=int32, numpy=16>"
      ]
     },
     "execution_count": 75,
     "metadata": {},
     "output_type": "execute_result"
    }
   ],
   "source": [
    "x[1,7]"
   ]
  },
  {
   "cell_type": "code",
   "execution_count": 76,
   "id": "5ca6867a",
   "metadata": {},
   "outputs": [
    {
     "data": {
      "text/plain": [
       "<tf.Tensor: shape=(3, 8, 1), dtype=int32, numpy=\n",
       "array([[[ 1],\n",
       "        [ 2],\n",
       "        [ 3],\n",
       "        [ 4],\n",
       "        [ 5],\n",
       "        [ 6],\n",
       "        [ 7],\n",
       "        [ 8]],\n",
       "\n",
       "       [[ 9],\n",
       "        [10],\n",
       "        [11],\n",
       "        [12],\n",
       "        [13],\n",
       "        [14],\n",
       "        [15],\n",
       "        [16]],\n",
       "\n",
       "       [[17],\n",
       "        [18],\n",
       "        [19],\n",
       "        [20],\n",
       "        [21],\n",
       "        [22],\n",
       "        [23],\n",
       "        [24]]])>"
      ]
     },
     "execution_count": 76,
     "metadata": {},
     "output_type": "execute_result"
    }
   ],
   "source": [
    "x[...,tf.newaxis]"
   ]
  },
  {
   "cell_type": "code",
   "execution_count": 77,
   "id": "3dbf2687",
   "metadata": {},
   "outputs": [
    {
     "data": {
      "text/plain": [
       "<tf.Tensor: shape=(3, 8, 1), dtype=int32, numpy=\n",
       "array([[[ 1],\n",
       "        [ 2],\n",
       "        [ 3],\n",
       "        [ 4],\n",
       "        [ 5],\n",
       "        [ 6],\n",
       "        [ 7],\n",
       "        [ 8]],\n",
       "\n",
       "       [[ 9],\n",
       "        [10],\n",
       "        [11],\n",
       "        [12],\n",
       "        [13],\n",
       "        [14],\n",
       "        [15],\n",
       "        [16]],\n",
       "\n",
       "       [[17],\n",
       "        [18],\n",
       "        [19],\n",
       "        [20],\n",
       "        [21],\n",
       "        [22],\n",
       "        [23],\n",
       "        [24]]])>"
      ]
     },
     "execution_count": 77,
     "metadata": {},
     "output_type": "execute_result"
    }
   ],
   "source": [
    "x[:,:,tf.newaxis]"
   ]
  },
  {
   "cell_type": "code",
   "execution_count": 78,
   "id": "a8e31e29",
   "metadata": {},
   "outputs": [
    {
     "data": {
      "text/plain": [
       "<tf.Tensor: shape=(3, 8, 1), dtype=int32, numpy=\n",
       "array([[[ 1],\n",
       "        [ 2],\n",
       "        [ 3],\n",
       "        [ 4],\n",
       "        [ 5],\n",
       "        [ 6],\n",
       "        [ 7],\n",
       "        [ 8]],\n",
       "\n",
       "       [[ 9],\n",
       "        [10],\n",
       "        [11],\n",
       "        [12],\n",
       "        [13],\n",
       "        [14],\n",
       "        [15],\n",
       "        [16]],\n",
       "\n",
       "       [[17],\n",
       "        [18],\n",
       "        [19],\n",
       "        [20],\n",
       "        [21],\n",
       "        [22],\n",
       "        [23],\n",
       "        [24]]])>"
      ]
     },
     "execution_count": 78,
     "metadata": {},
     "output_type": "execute_result"
    }
   ],
   "source": [
    "tf.expand_dims(x, axis=-1)"
   ]
  },
  {
   "cell_type": "code",
   "execution_count": 79,
   "id": "554ceed9",
   "metadata": {},
   "outputs": [],
   "source": [
    "# Manipulating tensors"
   ]
  },
  {
   "cell_type": "code",
   "execution_count": 80,
   "id": "6a4fca3a",
   "metadata": {},
   "outputs": [
    {
     "data": {
      "text/plain": [
       "<tf.Tensor: shape=(3, 8), dtype=int32, numpy=\n",
       "array([[11, 12, 13, 14, 15, 16, 17, 18],\n",
       "       [19, 20, 21, 22, 23, 24, 25, 26],\n",
       "       [27, 28, 29, 30, 31, 32, 33, 34]])>"
      ]
     },
     "execution_count": 80,
     "metadata": {},
     "output_type": "execute_result"
    }
   ],
   "source": [
    "x+10"
   ]
  },
  {
   "cell_type": "code",
   "execution_count": 81,
   "id": "fb5f7a09",
   "metadata": {},
   "outputs": [
    {
     "data": {
      "text/plain": [
       "<tf.Tensor: shape=(3, 8), dtype=int32, numpy=\n",
       "array([[ 10,  20,  30,  40,  50,  60,  70,  80],\n",
       "       [ 90, 100, 110, 120, 130, 140, 150, 160],\n",
       "       [170, 180, 190, 200, 210, 220, 230, 240]])>"
      ]
     },
     "execution_count": 81,
     "metadata": {},
     "output_type": "execute_result"
    }
   ],
   "source": [
    "x*10"
   ]
  },
  {
   "cell_type": "code",
   "execution_count": 82,
   "id": "69aa5d51",
   "metadata": {},
   "outputs": [
    {
     "data": {
      "text/plain": [
       "<tf.Tensor: shape=(3, 8), dtype=int32, numpy=\n",
       "array([[-9, -8, -7, -6, -5, -4, -3, -2],\n",
       "       [-1,  0,  1,  2,  3,  4,  5,  6],\n",
       "       [ 7,  8,  9, 10, 11, 12, 13, 14]])>"
      ]
     },
     "execution_count": 82,
     "metadata": {},
     "output_type": "execute_result"
    }
   ],
   "source": [
    "x-10"
   ]
  },
  {
   "cell_type": "code",
   "execution_count": 83,
   "id": "46b2f99d",
   "metadata": {},
   "outputs": [
    {
     "data": {
      "text/plain": [
       "<tf.Tensor: shape=(3, 8), dtype=float64, numpy=\n",
       "array([[0.1, 0.2, 0.3, 0.4, 0.5, 0.6, 0.7, 0.8],\n",
       "       [0.9, 1. , 1.1, 1.2, 1.3, 1.4, 1.5, 1.6],\n",
       "       [1.7, 1.8, 1.9, 2. , 2.1, 2.2, 2.3, 2.4]])>"
      ]
     },
     "execution_count": 83,
     "metadata": {},
     "output_type": "execute_result"
    }
   ],
   "source": [
    "x/10"
   ]
  },
  {
   "cell_type": "code",
   "execution_count": 84,
   "id": "337903da",
   "metadata": {},
   "outputs": [
    {
     "data": {
      "text/plain": [
       "<tf.Tensor: shape=(3, 8), dtype=int32, numpy=\n",
       "array([[0, 0, 0, 0, 0, 0, 0, 0],\n",
       "       [0, 1, 1, 1, 1, 1, 1, 1],\n",
       "       [1, 1, 1, 2, 2, 2, 2, 2]])>"
      ]
     },
     "execution_count": 84,
     "metadata": {},
     "output_type": "execute_result"
    }
   ],
   "source": [
    "x//10"
   ]
  },
  {
   "cell_type": "code",
   "execution_count": 85,
   "id": "b79054d7",
   "metadata": {},
   "outputs": [
    {
     "data": {
      "text/plain": [
       "<tf.Tensor: shape=(3, 8), dtype=int32, numpy=\n",
       "array([[1, 0, 1, 0, 1, 0, 1, 0],\n",
       "       [1, 0, 1, 0, 1, 0, 1, 0],\n",
       "       [1, 0, 1, 0, 1, 0, 1, 0]])>"
      ]
     },
     "execution_count": 85,
     "metadata": {},
     "output_type": "execute_result"
    }
   ],
   "source": [
    "x%2"
   ]
  },
  {
   "cell_type": "code",
   "execution_count": 87,
   "id": "a3874271",
   "metadata": {},
   "outputs": [
    {
     "data": {
      "text/plain": [
       "<tf.Tensor: shape=(3, 8), dtype=int32, numpy=\n",
       "array([[ 10,  20,  30,  40,  50,  60,  70,  80],\n",
       "       [ 90, 100, 110, 120, 130, 140, 150, 160],\n",
       "       [170, 180, 190, 200, 210, 220, 230, 240]])>"
      ]
     },
     "execution_count": 87,
     "metadata": {},
     "output_type": "execute_result"
    }
   ],
   "source": [
    "tf.multiply(x,10) #much more faster"
   ]
  },
  {
   "cell_type": "code",
   "execution_count": 89,
   "id": "5b335c2d",
   "metadata": {},
   "outputs": [],
   "source": [
    "y = tf.constant(numpyA, shape=(8,3))"
   ]
  },
  {
   "cell_type": "code",
   "execution_count": 90,
   "id": "92a64843",
   "metadata": {},
   "outputs": [
    {
     "data": {
      "text/plain": [
       "<tf.Tensor: shape=(3, 3), dtype=int32, numpy=\n",
       "array([[ 540,  576,  612],\n",
       "       [1276, 1376, 1476],\n",
       "       [2012, 2176, 2340]])>"
      ]
     },
     "execution_count": 90,
     "metadata": {},
     "output_type": "execute_result"
    }
   ],
   "source": [
    "tf.matmul(x,y)"
   ]
  },
  {
   "cell_type": "code",
   "execution_count": 91,
   "id": "a49b9b89",
   "metadata": {},
   "outputs": [
    {
     "data": {
      "text/plain": [
       "<tf.Tensor: shape=(8, 8), dtype=int32, numpy=\n",
       "array([[  70,   76,   82,   88,   94,  100,  106,  112],\n",
       "       [ 151,  166,  181,  196,  211,  226,  241,  256],\n",
       "       [ 232,  256,  280,  304,  328,  352,  376,  400],\n",
       "       [ 313,  346,  379,  412,  445,  478,  511,  544],\n",
       "       [ 394,  436,  478,  520,  562,  604,  646,  688],\n",
       "       [ 475,  526,  577,  628,  679,  730,  781,  832],\n",
       "       [ 556,  616,  676,  736,  796,  856,  916,  976],\n",
       "       [ 637,  706,  775,  844,  913,  982, 1051, 1120]])>"
      ]
     },
     "execution_count": 91,
     "metadata": {},
     "output_type": "execute_result"
    }
   ],
   "source": [
    "tf.matmul(y,x)"
   ]
  },
  {
   "cell_type": "code",
   "execution_count": 92,
   "id": "e1d3ed35",
   "metadata": {},
   "outputs": [
    {
     "data": {
      "text/plain": [
       "<tf.Tensor: shape=(3, 3), dtype=int32, numpy=\n",
       "array([[ 540,  576,  612],\n",
       "       [1276, 1376, 1476],\n",
       "       [2012, 2176, 2340]])>"
      ]
     },
     "execution_count": 92,
     "metadata": {},
     "output_type": "execute_result"
    }
   ],
   "source": [
    "x@y"
   ]
  },
  {
   "cell_type": "code",
   "execution_count": 93,
   "id": "8f8aec32",
   "metadata": {},
   "outputs": [
    {
     "data": {
      "text/plain": [
       "<tf.Tensor: shape=(8, 3), dtype=int32, numpy=\n",
       "array([[ 1,  9, 17],\n",
       "       [ 2, 10, 18],\n",
       "       [ 3, 11, 19],\n",
       "       [ 4, 12, 20],\n",
       "       [ 5, 13, 21],\n",
       "       [ 6, 14, 22],\n",
       "       [ 7, 15, 23],\n",
       "       [ 8, 16, 24]])>"
      ]
     },
     "execution_count": 93,
     "metadata": {},
     "output_type": "execute_result"
    }
   ],
   "source": [
    "tf.transpose(x)"
   ]
  },
  {
   "cell_type": "code",
   "execution_count": 94,
   "id": "fc7623b8",
   "metadata": {},
   "outputs": [
    {
     "data": {
      "text/plain": [
       "<tf.Tensor: shape=(8, 3), dtype=int32, numpy=\n",
       "array([[ 1,  2,  3],\n",
       "       [ 4,  5,  6],\n",
       "       [ 7,  8,  9],\n",
       "       [10, 11, 12],\n",
       "       [13, 14, 15],\n",
       "       [16, 17, 18],\n",
       "       [19, 20, 21],\n",
       "       [22, 23, 24]])>"
      ]
     },
     "execution_count": 94,
     "metadata": {},
     "output_type": "execute_result"
    }
   ],
   "source": [
    "tf.reshape(x, shape=(8,3))"
   ]
  },
  {
   "cell_type": "code",
   "execution_count": 96,
   "id": "391ef35b",
   "metadata": {},
   "outputs": [
    {
     "data": {
      "text/plain": [
       "<tf.Tensor: shape=(3, 8), dtype=int32, numpy=\n",
       "array([[ 1,  2,  3,  4,  5,  6,  7,  8],\n",
       "       [ 9, 10, 11, 12, 13, 14, 15, 16],\n",
       "       [17, 18, 19, 20, 21, 22, 23, 24]])>"
      ]
     },
     "execution_count": 96,
     "metadata": {},
     "output_type": "execute_result"
    }
   ],
   "source": [
    "x"
   ]
  },
  {
   "cell_type": "code",
   "execution_count": 97,
   "id": "9ad50ef5",
   "metadata": {},
   "outputs": [],
   "source": [
    "# Changing the datatypes of a tensor"
   ]
  },
  {
   "cell_type": "code",
   "execution_count": 99,
   "id": "49bfec6c",
   "metadata": {},
   "outputs": [
    {
     "data": {
      "text/plain": [
       "tf.int32"
      ]
     },
     "execution_count": 99,
     "metadata": {},
     "output_type": "execute_result"
    }
   ],
   "source": [
    "x.dtype"
   ]
  },
  {
   "cell_type": "code",
   "execution_count": 103,
   "id": "09b96394",
   "metadata": {},
   "outputs": [
    {
     "data": {
      "text/plain": [
       "tf.float16"
      ]
     },
     "execution_count": 103,
     "metadata": {},
     "output_type": "execute_result"
    }
   ],
   "source": [
    "y = tf.cast(x, dtype=tf.float16)\n",
    "y.dtype"
   ]
  },
  {
   "cell_type": "code",
   "execution_count": 104,
   "id": "ee92d3be",
   "metadata": {},
   "outputs": [],
   "source": [
    "# Aggregating tensors"
   ]
  },
  {
   "cell_type": "code",
   "execution_count": 105,
   "id": "4a399709",
   "metadata": {},
   "outputs": [
    {
     "data": {
      "text/plain": [
       "<tf.Tensor: shape=(3, 8), dtype=int32, numpy=\n",
       "array([[ 1,  2,  3,  4,  5,  6,  7,  8],\n",
       "       [ 9, 10, 11, 12, 13, 14, 15, 16],\n",
       "       [17, 18, 19, 20, 21, 22, 23, 24]])>"
      ]
     },
     "execution_count": 105,
     "metadata": {},
     "output_type": "execute_result"
    }
   ],
   "source": [
    "tf.abs(x)"
   ]
  },
  {
   "cell_type": "code",
   "execution_count": 110,
   "id": "8be88b2d",
   "metadata": {},
   "outputs": [
    {
     "data": {
      "text/plain": [
       "<tf.Tensor: shape=(), dtype=int32, numpy=24>"
      ]
     },
     "execution_count": 110,
     "metadata": {},
     "output_type": "execute_result"
    }
   ],
   "source": [
    "tf.reduce_max(x)"
   ]
  },
  {
   "cell_type": "code",
   "execution_count": 111,
   "id": "968ce405",
   "metadata": {},
   "outputs": [
    {
     "data": {
      "text/plain": [
       "<tf.Tensor: shape=(), dtype=int32, numpy=1>"
      ]
     },
     "execution_count": 111,
     "metadata": {},
     "output_type": "execute_result"
    }
   ],
   "source": [
    "tf.reduce_min(x)"
   ]
  },
  {
   "cell_type": "code",
   "execution_count": 112,
   "id": "c981d99e",
   "metadata": {},
   "outputs": [
    {
     "data": {
      "text/plain": [
       "<tf.Tensor: shape=(), dtype=int32, numpy=8>"
      ]
     },
     "execution_count": 112,
     "metadata": {},
     "output_type": "execute_result"
    }
   ],
   "source": [
    "tf.reduce_max(x[0])"
   ]
  },
  {
   "cell_type": "code",
   "execution_count": 113,
   "id": "87747850",
   "metadata": {},
   "outputs": [
    {
     "data": {
      "text/plain": [
       "<tf.Tensor: shape=(), dtype=int32, numpy=12>"
      ]
     },
     "execution_count": 113,
     "metadata": {},
     "output_type": "execute_result"
    }
   ],
   "source": [
    "tf.reduce_mean(x)"
   ]
  },
  {
   "cell_type": "code",
   "execution_count": 114,
   "id": "4b3cd84c",
   "metadata": {},
   "outputs": [
    {
     "data": {
      "text/plain": [
       "<tf.Tensor: shape=(), dtype=int32, numpy=4>"
      ]
     },
     "execution_count": 114,
     "metadata": {},
     "output_type": "execute_result"
    }
   ],
   "source": [
    "tf.reduce_mean(x[0])"
   ]
  },
  {
   "cell_type": "code",
   "execution_count": 115,
   "id": "b454c71a",
   "metadata": {},
   "outputs": [
    {
     "data": {
      "text/plain": [
       "<tf.Tensor: shape=(), dtype=int32, numpy=300>"
      ]
     },
     "execution_count": 115,
     "metadata": {},
     "output_type": "execute_result"
    }
   ],
   "source": [
    "tf.reduce_sum(x)"
   ]
  },
  {
   "cell_type": "code",
   "execution_count": 119,
   "id": "011c974f",
   "metadata": {},
   "outputs": [],
   "source": [
    "# !pip install tensorflow_probability\n",
    "import tensorflow_probability as tfp"
   ]
  },
  {
   "cell_type": "code",
   "execution_count": 121,
   "id": "ee0b297b",
   "metadata": {},
   "outputs": [
    {
     "data": {
      "text/plain": [
       "<tf.Tensor: shape=(), dtype=float16, numpy=6.91>"
      ]
     },
     "execution_count": 121,
     "metadata": {},
     "output_type": "execute_result"
    }
   ],
   "source": [
    "tf.math.reduce_std(tf.cast(x,dtype=tf.float16))"
   ]
  },
  {
   "cell_type": "code",
   "execution_count": 128,
   "id": "7ad81502",
   "metadata": {},
   "outputs": [
    {
     "data": {
      "text/plain": [
       "<tf.Tensor: shape=(24,), dtype=float16, numpy=\n",
       "array([0., 0., 0., 0., 0., 0., 0., 0., 0., 0., 0., 0., 0., 0., 0., 0., 0.,\n",
       "       0., 0., 0., 0., 0., 0., 0.], dtype=float16)>"
      ]
     },
     "execution_count": 128,
     "metadata": {},
     "output_type": "execute_result"
    }
   ],
   "source": [
    "tfp.stats.stddev(tf.cast(tf.reshape(x,shape=(1,24)),dtype=tf.float16))"
   ]
  },
  {
   "cell_type": "code",
   "execution_count": 129,
   "id": "21cd535d",
   "metadata": {},
   "outputs": [
    {
     "data": {
      "text/plain": [
       "<tf.Tensor: shape=(), dtype=int32, numpy=17>"
      ]
     },
     "execution_count": 129,
     "metadata": {},
     "output_type": "execute_result"
    }
   ],
   "source": [
    "tf.reduce_max(x[:,0])"
   ]
  },
  {
   "cell_type": "code",
   "execution_count": 130,
   "id": "bfa20253",
   "metadata": {},
   "outputs": [
    {
     "data": {
      "text/plain": [
       "<tf.Tensor: shape=(3, 8), dtype=int32, numpy=\n",
       "array([[ 1,  2,  3,  4,  5,  6,  7,  8],\n",
       "       [ 9, 10, 11, 12, 13, 14, 15, 16],\n",
       "       [17, 18, 19, 20, 21, 22, 23, 24]])>"
      ]
     },
     "execution_count": 130,
     "metadata": {},
     "output_type": "execute_result"
    }
   ],
   "source": [
    "x"
   ]
  },
  {
   "cell_type": "code",
   "execution_count": 131,
   "id": "5de31f46",
   "metadata": {},
   "outputs": [
    {
     "data": {
      "text/plain": [
       "<tf.Tensor: shape=(8,), dtype=int64, numpy=array([2, 2, 2, 2, 2, 2, 2, 2], dtype=int64)>"
      ]
     },
     "execution_count": 131,
     "metadata": {},
     "output_type": "execute_result"
    }
   ],
   "source": [
    "tf.argmax(x) # index of max value for each column"
   ]
  },
  {
   "cell_type": "code",
   "execution_count": 139,
   "id": "6b28f4ca",
   "metadata": {},
   "outputs": [
    {
     "data": {
      "text/plain": [
       "<tf.Tensor: shape=(8,), dtype=int32, numpy=array([17, 18, 19, 20, 21, 22, 23, 24])>"
      ]
     },
     "execution_count": 139,
     "metadata": {},
     "output_type": "execute_result"
    }
   ],
   "source": [
    "tf.gather(x,tf.argmax(x))[0]"
   ]
  },
  {
   "cell_type": "code",
   "execution_count": 147,
   "id": "3c2b30d4",
   "metadata": {},
   "outputs": [
    {
     "data": {
      "text/plain": [
       "<tf.Tensor: shape=(5, 4), dtype=float32, numpy=\n",
       "array([[0.95831835, 0.01680839, 0.3156035 , 0.16013157],\n",
       "       [0.7148702 , 0.7892921 , 0.11484027, 0.33310425],\n",
       "       [0.21091413, 0.62329304, 0.9865029 , 0.12230623],\n",
       "       [0.20660043, 0.87113273, 0.0206511 , 0.21824265],\n",
       "       [0.6902214 , 0.70987105, 0.8787489 , 0.4835763 ]], dtype=float32)>"
      ]
     },
     "execution_count": 147,
     "metadata": {},
     "output_type": "execute_result"
    }
   ],
   "source": [
    "x = tf.constant(tf.random.uniform(shape=(5,4)))\n",
    "x"
   ]
  },
  {
   "cell_type": "code",
   "execution_count": 154,
   "id": "b50b66b1",
   "metadata": {},
   "outputs": [],
   "source": [
    "y = tf.gather(x,tf.argmax(x))"
   ]
  },
  {
   "cell_type": "code",
   "execution_count": 159,
   "id": "58d45d66",
   "metadata": {},
   "outputs": [
    {
     "data": {
      "text/plain": [
       "<tf.Tensor: shape=(4, 4), dtype=float32, numpy=\n",
       "array([[0.95831835, 0.01680839, 0.3156035 , 0.16013157],\n",
       "       [0.20660043, 0.87113273, 0.0206511 , 0.21824265],\n",
       "       [0.21091413, 0.62329304, 0.9865029 , 0.12230623],\n",
       "       [0.6902214 , 0.70987105, 0.8787489 , 0.4835763 ]], dtype=float32)>"
      ]
     },
     "execution_count": 159,
     "metadata": {},
     "output_type": "execute_result"
    }
   ],
   "source": [
    "y"
   ]
  },
  {
   "cell_type": "code",
   "execution_count": 160,
   "id": "18feecb4",
   "metadata": {},
   "outputs": [
    {
     "data": {
      "text/plain": [
       "<tf.Tensor: shape=(4,), dtype=float32, numpy=array([0.95831835, 0.87113273, 0.9865029 , 0.4835763 ], dtype=float32)>"
      ]
     },
     "execution_count": 160,
     "metadata": {},
     "output_type": "execute_result"
    }
   ],
   "source": [
    "tf.linalg.tensor_diag_part(y)"
   ]
  },
  {
   "cell_type": "code",
   "execution_count": 161,
   "id": "a2110cf3",
   "metadata": {},
   "outputs": [],
   "source": [
    "# One hoting encoding"
   ]
  },
  {
   "cell_type": "code",
   "execution_count": 166,
   "id": "42d23e9e",
   "metadata": {},
   "outputs": [
    {
     "data": {
      "text/plain": [
       "<tf.Tensor: shape=(6, 4), dtype=float32, numpy=\n",
       "array([[0., 1., 0., 0.],\n",
       "       [0., 0., 1., 0.],\n",
       "       [0., 0., 0., 1.],\n",
       "       [0., 0., 1., 0.],\n",
       "       [0., 0., 1., 0.],\n",
       "       [0., 1., 0., 0.]], dtype=float32)>"
      ]
     },
     "execution_count": 166,
     "metadata": {},
     "output_type": "execute_result"
    }
   ],
   "source": [
    "tf.one_hot(tf.constant([1,2,3,2,2,1]), depth=4)"
   ]
  },
  {
   "cell_type": "code",
   "execution_count": 167,
   "id": "3608dce5",
   "metadata": {},
   "outputs": [],
   "source": [
    "# Check phisical devices"
   ]
  },
  {
   "cell_type": "code",
   "execution_count": 168,
   "id": "7bf01ec4",
   "metadata": {},
   "outputs": [
    {
     "data": {
      "text/plain": [
       "[PhysicalDevice(name='/physical_device:CPU:0', device_type='CPU')]"
      ]
     },
     "execution_count": 168,
     "metadata": {},
     "output_type": "execute_result"
    }
   ],
   "source": [
    "tf.config.list_physical_devices()"
   ]
  },
  {
   "cell_type": "code",
   "execution_count": 169,
   "id": "7222788c",
   "metadata": {},
   "outputs": [
    {
     "name": "stderr",
     "output_type": "stream",
     "text": [
      "'nvidia-smi' nÆo ‚ reconhecido como um comando interno\n",
      "ou externo, um programa oper vel ou um arquivo em lotes.\n"
     ]
    }
   ],
   "source": [
    "!nvidia-smi"
   ]
  },
  {
   "cell_type": "code",
   "execution_count": null,
   "id": "21fc3ea4",
   "metadata": {},
   "outputs": [],
   "source": []
  },
  {
   "cell_type": "code",
   "execution_count": null,
   "id": "9943af2d",
   "metadata": {},
   "outputs": [],
   "source": []
  }
 ],
 "metadata": {
  "kernelspec": {
   "display_name": "Python 3 (ipykernel)",
   "language": "python",
   "name": "python3"
  },
  "language_info": {
   "codemirror_mode": {
    "name": "ipython",
    "version": 3
   },
   "file_extension": ".py",
   "mimetype": "text/x-python",
   "name": "python",
   "nbconvert_exporter": "python",
   "pygments_lexer": "ipython3",
   "version": "3.9.12"
  }
 },
 "nbformat": 4,
 "nbformat_minor": 5
}
